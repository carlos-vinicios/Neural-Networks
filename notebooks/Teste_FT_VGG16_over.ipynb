{
 "cells": [
  {
   "cell_type": "code",
   "execution_count": null,
   "metadata": {
    "colab": {
     "base_uri": "https://localhost:8080/",
     "height": 153
    },
    "colab_type": "code",
    "executionInfo": {
     "elapsed": 69407,
     "status": "ok",
     "timestamp": 1541510249735,
     "user": {
      "displayName": "carlos vinicios",
      "photoUrl": "https://lh4.googleusercontent.com/-HD1JD9S5kro/AAAAAAAAAAI/AAAAAAAAAGE/k78y_62BIjw/s64/photo.jpg",
      "userId": "13386258532170417771"
     },
     "user_tz": 180
    },
    "id": "1UGAnB0fd05v",
    "outputId": "359df4d2-fbeb-4877-baf8-8d3fc1119eb6"
   },
   "outputs": [],
   "source": [
    "!git clone https://github.com/carlos-vinicios/Neural-Networks"
   ]
  },
  {
   "cell_type": "code",
   "execution_count": null,
   "metadata": {
    "colab": {
     "base_uri": "https://localhost:8080/",
     "height": 34
    },
    "colab_type": "code",
    "executionInfo": {
     "elapsed": 2139,
     "status": "ok",
     "timestamp": 1541510347020,
     "user": {
      "displayName": "carlos vinicios",
      "photoUrl": "https://lh4.googleusercontent.com/-HD1JD9S5kro/AAAAAAAAAAI/AAAAAAAAAGE/k78y_62BIjw/s64/photo.jpg",
      "userId": "13386258532170417771"
     },
     "user_tz": 180
    },
    "id": "c3TFOLfe0y-2",
    "outputId": "6a5b570f-ec40-465a-cb2c-97930998d7f5"
   },
   "outputs": [],
   "source": [
    "from keras.applications.vgg16 import VGG16\n",
    "from keras.applications.vgg16 import preprocess_input, decode_predictions\n",
    "from keras.preprocessing.image import ImageDataGenerator\n",
    "from keras.models import Model, Sequential\n",
    "from keras.layers import Dense, Activation\n",
    "from keras.utils import to_categorical\n",
    "from sklearn import metrics\n",
    "import numpy as np\n",
    "import itertools\n",
    "import matplotlib.pyplot as plt"
   ]
  },
  {
   "cell_type": "code",
   "execution_count": null,
   "metadata": {
    "colab": {},
    "colab_type": "code",
    "id": "fDq_8xCU05AI"
   },
   "outputs": [],
   "source": [
    "def plot_confusion_matrix(cm, classes, normalize=False, \n",
    "                          title=\"Matriz de Confusão\", \n",
    "                          cmap=plt.cm.Blues):\n",
    "  plt.rcParams[\"axes.grid\"] = False #esconde as linhas do grid\n",
    "  plt.imshow(cm, interpolation='nearest', cmap=cmap)\n",
    "  plt.title(title)\n",
    "  plt.colorbar()\n",
    "  tick_marks = np.arange(len(classes))\n",
    "  plt.xticks(tick_marks, classes, rotation=45)\n",
    "  plt.yticks(tick_marks, classes)\n",
    "  \n",
    "  \n",
    "  if normalize:\n",
    "    cm = cm.astype('float') / cm.sum(axis=1)[:, np.newaxis]\n",
    "    print(\"Normalizada\")\n",
    "  else:\n",
    "    print(\"Sem normalização\")\n",
    "   \n",
    "  print(cm)\n",
    "  \n",
    "  thresh = cm.max() / 2.\n",
    "  for i, j in itertools.product(range(cm.shape[0]), range(cm.shape[1])):\n",
    "    plt.text(j, i, cm[i, j], \n",
    "             horizontalalignment=\"center\", \n",
    "             color=\"white\" if cm[i, j] > thresh else \"black\")\n",
    "  \n",
    "  plt.tight_layout()\n",
    "  plt.ylabel(\"Classes reais\")\n",
    "  plt.xlabel(\"Classes previstas\")"
   ]
  },
  {
   "cell_type": "code",
   "execution_count": null,
   "metadata": {
    "colab": {},
    "colab_type": "code",
    "id": "sU1Qm4L6fC_t"
   },
   "outputs": [],
   "source": [
    "train_path = \"Neural-Networks/train_base_over/train\"\n",
    "valid_path = \"Neural-Networks/train_base_over/valid\"\n",
    "test_path = \"Neural-Networks/train_base_over/test\"\n"
   ]
  },
  {
   "cell_type": "code",
   "execution_count": null,
   "metadata": {
    "colab": {},
    "colab_type": "code",
    "id": "iYM-_BTn06gE"
   },
   "outputs": [],
   "source": [
    "model_vgg16 = VGG16()\n",
    "\n",
    "#necessario criar um novo modelo sequencial para após aproveitar as camadas da VGG16, adicionando uma a uma\n",
    "model = Sequential()\n",
    "for layer in model_vgg16.layers:\n",
    "    model.add(layer)\n",
    "\n",
    "model.layers.pop() # retira a última dense layer contendo as 1000 classes\n",
    "\n",
    "for layer in model.layers: #congela as camadas iniciais do modelo para que não aprendam novas caracteristicas\n",
    "    layer.trainable = False\n",
    "\n",
    "model.add(Dense(2, activation='softmax'))#adicionamos uma nova dense layer como softmax, para classificação entre melanoma e não melanoma"
   ]
  },
  {
   "cell_type": "code",
   "execution_count": null,
   "metadata": {
    "colab": {
     "base_uri": "https://localhost:8080/",
     "height": 778
    },
    "colab_type": "code",
    "executionInfo": {
     "elapsed": 902432,
     "status": "error",
     "timestamp": 1541514317747,
     "user": {
      "displayName": "carlos vinicios",
      "photoUrl": "https://lh4.googleusercontent.com/-HD1JD9S5kro/AAAAAAAAAAI/AAAAAAAAAGE/k78y_62BIjw/s64/photo.jpg",
      "userId": "13386258532170417771"
     },
     "user_tz": 180
    },
    "id": "argc4LMnjcl3",
    "outputId": "0cd6a6b5-23e9-4818-d98d-50da285be286"
   },
   "outputs": [],
   "source": [
    "model.compile(loss='binary_crossentropy',\n",
    "              optimizer='rmsprop',\n",
    "              metrics=['accuracy'])\n",
    "\n",
    "model.fit_generator(train_generator, steps_per_epoch=12, \n",
    "                    validation_data=validation_generator, \n",
    "                    validation_steps=4, \n",
    "                    epochs=6)\n",
    "\n",
    "model.evaluate_generator(generator=validation_generator, steps=4)"
   ]
  },
  {
   "cell_type": "code",
   "execution_count": null,
   "metadata": {
    "colab": {
     "base_uri": "https://localhost:8080/",
     "height": 68
    },
    "colab_type": "code",
    "executionInfo": {
     "elapsed": 1022,
     "status": "ok",
     "timestamp": 1541511182357,
     "user": {
      "displayName": "carlos vinicios",
      "photoUrl": "https://lh4.googleusercontent.com/-HD1JD9S5kro/AAAAAAAAAAI/AAAAAAAAAGE/k78y_62BIjw/s64/photo.jpg",
      "userId": "13386258532170417771"
     },
     "user_tz": 180
    },
    "id": "Kk_6oeNTnxju",
    "outputId": "dfa979fc-94de-48aa-a66a-10b5fafdbe26"
   },
   "outputs": [],
   "source": [
    "batch_size = 16\n",
    "\n",
    "train_datagen = ImageDataGenerator(\n",
    "        rescale=1./255,\n",
    "        shear_range=0.2,\n",
    "        zoom_range=0.2,\n",
    "        horizontal_flip=True,\n",
    "        vertical_flip=True)\n",
    "\n",
    "test_datagen = ImageDataGenerator(rescale=1./255)\n",
    "\n",
    "train_generator = train_datagen.flow_from_directory(\n",
    "        train_path,\n",
    "        target_size=(224, 224), \n",
    "        batch_size=batch_size,\n",
    "        classes=[\"melanoma\", \"normais\"])\n",
    "\n",
    "validation_generator = test_datagen.flow_from_directory(\n",
    "        valid_path,\n",
    "        target_size=(224, 224),\n",
    "        batch_size=batch_size,\n",
    "        classes=[\"melanoma\", \"normais\"])\n",
    "\n",
    "test_generator = test_datagen.flow_from_directory(\n",
    "        test_path,\n",
    "        target_size=(224, 224),\n",
    "        batch_size=batch_size,\n",
    "        classes=[\"melanoma\", \"normais\"])\n"
   ]
  },
  {
   "cell_type": "code",
   "execution_count": null,
   "metadata": {
    "colab": {
     "base_uri": "https://localhost:8080/",
     "height": 1336
    },
    "colab_type": "code",
    "executionInfo": {
     "elapsed": 52371,
     "status": "ok",
     "timestamp": 1541514606997,
     "user": {
      "displayName": "carlos vinicios",
      "photoUrl": "https://lh4.googleusercontent.com/-HD1JD9S5kro/AAAAAAAAAAI/AAAAAAAAAGE/k78y_62BIjw/s64/photo.jpg",
      "userId": "13386258532170417771"
     },
     "user_tz": 180
    },
    "id": "xAGZur79jgT3",
    "outputId": "6d67e3fd-5c5f-41e8-dbd2-8859c932cd72"
   },
   "outputs": [],
   "source": [
    "teste_img, test_labels = next(test_generator)\n",
    "\n",
    "test_labels = test_labels[:,0]\n",
    "\n",
    "predict = model.predict_generator(test_generator, steps=1, verbose=0)\n",
    "\n",
    "print(metrics.accuracy_score(test_labels, np.round(predict[:,0])))\n",
    "\n",
    "print(metrics.classification_report(test_labels, np.round(predict[:,0])))\n",
    "\n",
    "confusion = metrics.confusion_matrix(test_labels, np.round(predict[:,0]))\n",
    "print()\n",
    "print()\n",
    "cm_plot_labels = [\"melanomas\", \"normais\"]\n",
    "\n",
    "plot_confusion_matrix(confusion, cm_plot_labels, title=\"Matriz de Confusão\")\n"
   ]
  },
  {
   "cell_type": "code",
   "execution_count": null,
   "metadata": {},
   "outputs": [],
   "source": [
    "model.save(\"test1.h5\")\n",
    "print(\"Saved model to disk\")"
   ]
  }
 ],
 "metadata": {
  "colab": {
   "collapsed_sections": [],
   "name": "Teste_FT_VGG16_over.ipynb",
   "provenance": [],
   "version": "0.3.2"
  },
  "kernelspec": {
   "display_name": "Python 3",
   "language": "python",
   "name": "python3"
  },
  "language_info": {
   "codemirror_mode": {
    "name": "ipython",
    "version": 3
   },
   "file_extension": ".py",
   "mimetype": "text/x-python",
   "name": "python",
   "nbconvert_exporter": "python",
   "pygments_lexer": "ipython3",
   "version": "3.6.5"
  }
 },
 "nbformat": 4,
 "nbformat_minor": 1
}
