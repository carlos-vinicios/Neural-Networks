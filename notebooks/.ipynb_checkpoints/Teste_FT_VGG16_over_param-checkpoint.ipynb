{
 "cells": [
  {
   "cell_type": "code",
   "execution_count": 0,
   "metadata": {
    "colab": {},
    "colab_type": "code",
    "id": "Q4QBEppGHxSW"
   },
   "outputs": [],
   "source": [
    "!rm -r model1.h5\n",
    "!rm -r model1.json\n",
    "!rm -r model2.h5\n",
    "!rm -r model2.json\n",
    "!rm -r model3.h5\n",
    "!rm -r model3.json\n",
    "!rm -r model4.h5\n",
    "!rm -r model4.json\n",
    "!rm -r model5.h5\n",
    "!rm -r model5.json"
   ]
  },
  {
   "cell_type": "code",
   "execution_count": 1,
   "metadata": {
    "colab": {
     "base_uri": "https://localhost:8080/",
     "height": 119
    },
    "colab_type": "code",
    "executionInfo": {
     "elapsed": 22615,
     "status": "ok",
     "timestamp": 1541593780424,
     "user": {
      "displayName": "carlos vinicios",
      "photoUrl": "https://lh4.googleusercontent.com/-HD1JD9S5kro/AAAAAAAAAAI/AAAAAAAAAGE/k78y_62BIjw/s64/photo.jpg",
      "userId": "13386258532170417771"
     },
     "user_tz": 180
    },
    "id": "DGxbbjoY9vDj",
    "outputId": "42238e26-6186-495d-b2b3-653cbb1d0a34"
   },
   "outputs": [
    {
     "name": "stdout",
     "output_type": "stream",
     "text": [
      "Cloning into 'Neural-Networks'...\n",
      "remote: Enumerating objects: 861, done.\u001b[K\n",
      "remote: Total 861 (delta 0), reused 0 (delta 0), pack-reused 861\u001b[K\n",
      "Receiving objects: 100% (861/861), 165.93 MiB | 30.18 MiB/s, done.\n",
      "Resolving deltas: 100% (214/214), done.\n",
      "Checking out files: 100% (1657/1657), done.\n"
     ]
    }
   ],
   "source": [
    "!git clone https://github.com/carlos-vinicios/Neural-Networks"
   ]
  },
  {
   "cell_type": "code",
   "execution_count": 2,
   "metadata": {
    "colab": {
     "base_uri": "https://localhost:8080/",
     "height": 34
    },
    "colab_type": "code",
    "executionInfo": {
     "elapsed": 1950,
     "status": "ok",
     "timestamp": 1541593992733,
     "user": {
      "displayName": "carlos vinicios",
      "photoUrl": "https://lh4.googleusercontent.com/-HD1JD9S5kro/AAAAAAAAAAI/AAAAAAAAAGE/k78y_62BIjw/s64/photo.jpg",
      "userId": "13386258532170417771"
     },
     "user_tz": 180
    },
    "id": "BuP5FYbJuQPI",
    "outputId": "b8881870-d4dc-40d1-f515-82f502f70544"
   },
   "outputs": [
    {
     "name": "stderr",
     "output_type": "stream",
     "text": [
      "Using TensorFlow backend.\n"
     ]
    }
   ],
   "source": [
    "from keras.applications.vgg16 import VGG16\n",
    "from keras.applications.vgg16 import preprocess_input, decode_predictions\n",
    "from keras.preprocessing.image import ImageDataGenerator\n",
    "from keras.models import Model, Sequential\n",
    "from keras.layers import Dense, Activation\n",
    "from sklearn import metrics\n",
    "import os\n",
    "import numpy as np\n",
    "import itertools\n",
    "import matplotlib.pyplot as plt"
   ]
  },
  {
   "cell_type": "code",
   "execution_count": 0,
   "metadata": {
    "colab": {},
    "colab_type": "code",
    "id": "eZrfQ8KGvQGS"
   },
   "outputs": [],
   "source": [
    "def plot_confusion_matrix(cm, classes, normalize=False, \n",
    "                          title=\"Matriz de Confusão\", \n",
    "                          cmap=plt.cm.Blues):\n",
    "  plt.rcParams[\"axes.grid\"] = False #esconde as linhas do grid\n",
    "  plt.imshow(cm, interpolation='nearest', cmap=cmap)\n",
    "  plt.title(title)\n",
    "  plt.colorbar()\n",
    "  tick_marks = np.arange(len(classes))\n",
    "  plt.xticks(tick_marks, classes, rotation=45)\n",
    "  plt.yticks(tick_marks, classes)\n",
    "  \n",
    "  \n",
    "  if normalize:\n",
    "    cm = cm.astype('float') / cm.sum(axis=1)[:, np.newaxis]\n",
    "    print(\"Normalizada\")\n",
    "  else:\n",
    "    print(\"Sem normalização\")\n",
    "   \n",
    "  print(cm)\n",
    "  \n",
    "  thresh = cm.max() / 2.\n",
    "  for i, j in itertools.product(range(cm.shape[0]), range(cm.shape[1])):\n",
    "    plt.text(j, i, cm[i, j], \n",
    "             horizontalalignment=\"center\", \n",
    "             color=\"white\" if cm[i, j] > thresh else \"black\")\n",
    "  \n",
    "  plt.tight_layout()\n",
    "  plt.ylabel(\"Classes reais\")\n",
    "  plt.xlabel(\"Classes previstas\")"
   ]
  },
  {
   "cell_type": "code",
   "execution_count": 0,
   "metadata": {
    "colab": {},
    "colab_type": "code",
    "id": "S4qE0DKPv4P8"
   },
   "outputs": [],
   "source": [
    "model_vgg16 = VGG16()\n",
    "\n",
    "#necessario criar um novo modelo sequencial para após aproveitar as camadas da VGG16, adicionando uma a uma\n",
    "model = Sequential()\n",
    "for layer in model_vgg16.layers:\n",
    "    model.add(layer)\n",
    "\n",
    "model.layers.pop() # retira a última dense layer contendo as 1000 classes\n",
    "\n",
    "for layer in model.layers: #congela as camadas iniciais do modelo para que não aprendam novas caracteristicas\n",
    "    layer.trainable = False\n",
    "\n",
    "model.add(Dense(2, activation='softmax'))#adicionamos uma nova dense layer como softmax, para classificação entre melanoma e não melanoma"
   ]
  },
  {
   "cell_type": "code",
   "execution_count": 0,
   "metadata": {
    "colab": {},
    "colab_type": "code",
    "id": "QIm0t21vgNoK"
   },
   "outputs": [],
   "source": [
    "train_path = \"Neural-Networks/split1/train\"\n",
    "test_path = \"Neural-Networks/split1/test\"\n",
    "valid_path = \"Neural-Networks/split1/valid\""
   ]
  },
  {
   "cell_type": "code",
   "execution_count": 19,
   "metadata": {
    "colab": {
     "base_uri": "https://localhost:8080/",
     "height": 68
    },
    "colab_type": "code",
    "executionInfo": {
     "elapsed": 907,
     "status": "ok",
     "timestamp": 1541598407432,
     "user": {
      "displayName": "carlos vinicios",
      "photoUrl": "https://lh4.googleusercontent.com/-HD1JD9S5kro/AAAAAAAAAAI/AAAAAAAAAGE/k78y_62BIjw/s64/photo.jpg",
      "userId": "13386258532170417771"
     },
     "user_tz": 180
    },
    "id": "gj-FjLkrf7L0",
    "outputId": "eca1692d-4aab-47ba-904f-f5b31213218a"
   },
   "outputs": [
    {
     "name": "stdout",
     "output_type": "stream",
     "text": [
      "Found 192 images belonging to 2 classes.\n",
      "Found 40 images belonging to 2 classes.\n",
      "Found 40 images belonging to 2 classes.\n"
     ]
    }
   ],
   "source": [
    "batch_size = 8\n",
    "\n",
    "train_datagen = ImageDataGenerator(\n",
    "        rescale=1./255,\n",
    "        shear_range=0.2,\n",
    "        zoom_range=0.2,\n",
    "        horizontal_flip=True,\n",
    "        vertical_flip=True)\n",
    "\n",
    "train_generator = train_datagen.flow_from_directory(\n",
    "        train_path,\n",
    "        target_size=(224, 224), \n",
    "        batch_size=batch_size,\n",
    "        classes=[\"melanomas\", \"normais\"])\n",
    "\n",
    "test_datagen = ImageDataGenerator()\n",
    "\n",
    "validation_generator = test_datagen.flow_from_directory(\n",
    "        valid_path,\n",
    "        target_size=(224, 224),\n",
    "        batch_size=batch_size,\n",
    "        classes=[\"melanomas\", \"normais\"])\n",
    "\n",
    "test_generator = test_datagen.flow_from_directory(\n",
    "        test_path,\n",
    "        target_size=(224, 224),\n",
    "        batch_size=batch_size,\n",
    "        classes=[\"melanomas\", \"normais\"])\n"
   ]
  },
  {
   "cell_type": "code",
   "execution_count": 20,
   "metadata": {
    "colab": {
     "base_uri": "https://localhost:8080/",
     "height": 238
    },
    "colab_type": "code",
    "executionInfo": {
     "elapsed": 16940,
     "status": "ok",
     "timestamp": 1541598426077,
     "user": {
      "displayName": "carlos vinicios",
      "photoUrl": "https://lh4.googleusercontent.com/-HD1JD9S5kro/AAAAAAAAAAI/AAAAAAAAAGE/k78y_62BIjw/s64/photo.jpg",
      "userId": "13386258532170417771"
     },
     "user_tz": 180
    },
    "id": "mFLL-41bgC9D",
    "outputId": "765b1dae-c763-4ea9-d805-6239bb930459"
   },
   "outputs": [
    {
     "name": "stdout",
     "output_type": "stream",
     "text": [
      "Epoch 1/6\n",
      "12/12 [==============================] - 3s 258ms/step - loss: 0.6928 - acc: 0.5000 - val_loss: 0.6874 - val_acc: 0.6250\n",
      "Epoch 2/6\n",
      "12/12 [==============================] - 2s 176ms/step - loss: 0.6928 - acc: 0.5000 - val_loss: 0.6865 - val_acc: 0.7188\n",
      "Epoch 3/6\n",
      "12/12 [==============================] - 3s 212ms/step - loss: 0.6913 - acc: 0.5208 - val_loss: 0.6912 - val_acc: 0.5312\n",
      "Epoch 4/6\n",
      "12/12 [==============================] - 3s 214ms/step - loss: 0.6916 - acc: 0.5208 - val_loss: 0.6821 - val_acc: 0.7188\n",
      "Epoch 5/6\n",
      "12/12 [==============================] - 3s 213ms/step - loss: 0.6899 - acc: 0.5521 - val_loss: 0.6879 - val_acc: 0.6875\n",
      "Epoch 6/6\n",
      "12/12 [==============================] - 3s 213ms/step - loss: 0.6904 - acc: 0.4792 - val_loss: 0.6793 - val_acc: 0.6875\n"
     ]
    },
    {
     "data": {
      "text/plain": [
       "[0.6807723939418793, 0.6875]"
      ]
     },
     "execution_count": 20,
     "metadata": {
      "tags": []
     },
     "output_type": "execute_result"
    }
   ],
   "source": [
    "model.compile(loss='binary_crossentropy',\n",
    "              optimizer='rmsprop',\n",
    "              metrics=['accuracy'])\n",
    "\n",
    "model.fit_generator(train_generator, steps_per_epoch=12, \n",
    "                    validation_data=validation_generator, \n",
    "                    validation_steps=4, \n",
    "                    epochs=6)\n",
    "\n",
    "model.evaluate_generator(generator=validation_generator, steps=4)"
   ]
  },
  {
   "cell_type": "code",
   "execution_count": 21,
   "metadata": {
    "colab": {
     "base_uri": "https://localhost:8080/",
     "height": 636
    },
    "colab_type": "code",
    "executionInfo": {
     "elapsed": 1552,
     "status": "ok",
     "timestamp": 1541598429912,
     "user": {
      "displayName": "carlos vinicios",
      "photoUrl": "https://lh4.googleusercontent.com/-HD1JD9S5kro/AAAAAAAAAAI/AAAAAAAAAGE/k78y_62BIjw/s64/photo.jpg",
      "userId": "13386258532170417771"
     },
     "user_tz": 180
    },
    "id": "7dULN1sbwTKX",
    "outputId": "7fd281a1-d271-4bc3-ede6-936b8c615308"
   },
   "outputs": [
    {
     "name": "stdout",
     "output_type": "stream",
     "text": [
      "0.625\n",
      "             precision    recall  f1-score   support\n",
      "\n",
      "        0.0       0.71      0.83      0.77         6\n",
      "        1.0       0.00      0.00      0.00         2\n",
      "\n",
      "avg / total       0.54      0.62      0.58         8\n",
      "\n",
      "\n",
      "\n",
      "Sem normalização\n",
      "[[5 1]\n",
      " [2 0]]\n"
     ]
    },
    {
     "data": {
      "image/png": "[encoded data removed]",
      "text/plain": [
       "<matplotlib.figure.Figure at 0x7f64e6ec9588>"
      ]
     },
     "metadata": {
      "tags": []
     },
     "output_type": "display_data"
    }
   ],
   "source": [
    "teste_img, test_labels = next(test_generator)\n",
    "\n",
    "test_labels = test_labels[:,0]\n",
    "\n",
    "predict = model.predict_generator(test_generator, steps=1, verbose=0)\n",
    "\n",
    "print(metrics.accuracy_score(test_labels, np.round(predict[:,0])))\n",
    "\n",
    "print(metrics.classification_report(test_labels, np.round(predict[:,0])))\n",
    "\n",
    "confusion = metrics.confusion_matrix(test_labels, np.round(predict[:,0]))\n",
    "print()\n",
    "print()\n",
    "cm_plot_labels = [\"melanomas\", \"normais\"]\n",
    "\n",
    "plot_confusion_matrix(confusion, cm_plot_labels, title=\"Matriz de Confusão\")"
   ]
  },
  {
   "cell_type": "code",
   "execution_count": 68,
   "metadata": {
    "colab": {
     "base_uri": "https://localhost:8080/",
     "height": 34
    },
    "colab_type": "code",
    "executionInfo": {
     "elapsed": 3396,
     "status": "ok",
     "timestamp": 1541560268894,
     "user": {
      "displayName": "carlos vinicios",
      "photoUrl": "https://lh4.googleusercontent.com/-HD1JD9S5kro/AAAAAAAAAAI/AAAAAAAAAGE/k78y_62BIjw/s64/photo.jpg",
      "userId": "13386258532170417771"
     },
     "user_tz": 120
    },
    "id": "7a6azIItA4R5",
    "outputId": "785426d0-d11a-45ef-c808-698ee35c8c4a"
   },
   "outputs": [
    {
     "name": "stdout",
     "output_type": "stream",
     "text": [
      "Saved model to disk\n"
     ]
    }
   ],
   "source": [
    "model_json = model.to_json()\n",
    "with open(\"model1.json\", \"w\") as json_file:\n",
    "    json_file.write(model_json)\n",
    "# salvando os pesos\n",
    "model.save_weights(\"model1.h5\")\n",
    "print(\"Saved model to disk\")"
   ]
  },
  {
   "cell_type": "code",
   "execution_count": 0,
   "metadata": {
    "colab": {},
    "colab_type": "code",
    "id": "ttjT7fNUqYEA"
   },
   "outputs": [],
   "source": [
    "train_path2 = \"Neural-Networks/split2/train\"\n",
    "test_path2 = \"Neural-Networks/split2/test\"\n",
    "valid_path2 = \"Neural-Networks/split2/valid\""
   ]
  },
  {
   "cell_type": "code",
   "execution_count": 74,
   "metadata": {
    "colab": {
     "base_uri": "https://localhost:8080/",
     "height": 68
    },
    "colab_type": "code",
    "executionInfo": {
     "elapsed": 866,
     "status": "ok",
     "timestamp": 1541560334552,
     "user": {
      "displayName": "carlos vinicios",
      "photoUrl": "https://lh4.googleusercontent.com/-HD1JD9S5kro/AAAAAAAAAAI/AAAAAAAAAGE/k78y_62BIjw/s64/photo.jpg",
      "userId": "13386258532170417771"
     },
     "user_tz": 120
    },
    "id": "7ZGGuuHIqsyo",
    "outputId": "84a2e212-fb28-4de3-bf31-2770a8510857"
   },
   "outputs": [
    {
     "name": "stdout",
     "output_type": "stream",
     "text": [
      "Found 192 images belonging to 2 classes.\n",
      "Found 40 images belonging to 2 classes.\n",
      "Found 40 images belonging to 2 classes.\n"
     ]
    }
   ],
   "source": [
    "batch_size = 8\n",
    "\n",
    "train_datagen = ImageDataGenerator(\n",
    "        rescale=1./255,\n",
    "        shear_range=0.2,\n",
    "        zoom_range=0.2,\n",
    "        horizontal_flip=True,\n",
    "        vertical_flip=True)\n",
    "\n",
    "test_datagen = ImageDataGenerator()\n",
    "\n",
    "train_generator = train_datagen.flow_from_directory(\n",
    "        train_path2,\n",
    "        target_size=(224, 224), \n",
    "        batch_size=batch_size,\n",
    "        classes=[\"melanomas\", \"normais\"])\n",
    "\n",
    "validation_generator = test_datagen.flow_from_directory(\n",
    "        valid_path2,\n",
    "        target_size=(224, 224),\n",
    "        batch_size=batch_size,\n",
    "        classes=[\"melanomas\", \"normais\"])\n",
    "\n",
    "test_generator = test_datagen.flow_from_directory(\n",
    "        test_path2,\n",
    "        target_size=(224, 224),\n",
    "        batch_size=batch_size,\n",
    "        classes=[\"melanomas\", \"normais\"])\n"
   ]
  },
  {
   "cell_type": "code",
   "execution_count": 75,
   "metadata": {
    "colab": {
     "base_uri": "https://localhost:8080/",
     "height": 238
    },
    "colab_type": "code",
    "executionInfo": {
     "elapsed": 16316,
     "status": "ok",
     "timestamp": 1541560353920,
     "user": {
      "displayName": "carlos vinicios",
      "photoUrl": "https://lh4.googleusercontent.com/-HD1JD9S5kro/AAAAAAAAAAI/AAAAAAAAAGE/k78y_62BIjw/s64/photo.jpg",
      "userId": "13386258532170417771"
     },
     "user_tz": 120
    },
    "id": "guvuwGpxrB_s",
    "outputId": "2db9ff48-27bd-4e83-9b73-4ab0e4d982c2"
   },
   "outputs": [
    {
     "name": "stdout",
     "output_type": "stream",
     "text": [
      "Epoch 1/6\n",
      "12/12 [==============================] - 3s 283ms/step - loss: 0.6558 - acc: 0.7604 - val_loss: 0.6396 - val_acc: 0.6562\n",
      "Epoch 2/6\n",
      "12/12 [==============================] - 2s 176ms/step - loss: 0.6511 - acc: 0.7812 - val_loss: 0.6569 - val_acc: 0.6562\n",
      "Epoch 3/6\n",
      "12/12 [==============================] - 2s 175ms/step - loss: 0.6508 - acc: 0.7708 - val_loss: 0.6031 - val_acc: 0.7188\n",
      "Epoch 4/6\n",
      "12/12 [==============================] - 2s 203ms/step - loss: 0.6522 - acc: 0.7708 - val_loss: 0.6417 - val_acc: 0.6875\n",
      "Epoch 5/6\n",
      "12/12 [==============================] - 2s 196ms/step - loss: 0.6472 - acc: 0.8021 - val_loss: 0.6323 - val_acc: 0.6562\n",
      "Epoch 6/6\n",
      "12/12 [==============================] - 2s 201ms/step - loss: 0.6569 - acc: 0.7500 - val_loss: 0.6321 - val_acc: 0.6875\n"
     ]
    },
    {
     "data": {
      "text/plain": [
       "[0.6481231153011322, 0.65625]"
      ]
     },
     "execution_count": 75,
     "metadata": {
      "tags": []
     },
     "output_type": "execute_result"
    }
   ],
   "source": [
    "model.compile(loss='binary_crossentropy',\n",
    "              optimizer='rmsprop',\n",
    "              metrics=['accuracy'])\n",
    "\n",
    "model.fit_generator(train_generator, steps_per_epoch=12, \n",
    "                    validation_data=validation_generator, \n",
    "                    validation_steps=4, \n",
    "                    epochs=6)\n",
    "\n",
    "model.evaluate_generator(generator=validation_generator, steps=4)"
   ]
  },
  {
   "cell_type": "code",
   "execution_count": 76,
   "metadata": {
    "colab": {
     "base_uri": "https://localhost:8080/",
     "height": 636
    },
    "colab_type": "code",
    "executionInfo": {
     "elapsed": 1425,
     "status": "ok",
     "timestamp": 1541560361650,
     "user": {
      "displayName": "carlos vinicios",
      "photoUrl": "https://lh4.googleusercontent.com/-HD1JD9S5kro/AAAAAAAAAAI/AAAAAAAAAGE/k78y_62BIjw/s64/photo.jpg",
      "userId": "13386258532170417771"
     },
     "user_tz": 120
    },
    "id": "DT-Hcg5BrQUh",
    "outputId": "1615a3eb-5372-489f-de1e-c17ea14f1b81"
   },
   "outputs": [
    {
     "name": "stdout",
     "output_type": "stream",
     "text": [
      "0.375\n",
      "             precision    recall  f1-score   support\n",
      "\n",
      "        0.0       0.67      0.33      0.44         6\n",
      "        1.0       0.20      0.50      0.29         2\n",
      "\n",
      "avg / total       0.55      0.38      0.40         8\n",
      "\n",
      "\n",
      "\n",
      "Sem normalização\n",
      "[[2 4]\n",
      " [1 1]]\n"
     ]
    },
    {
     "data": {
      "image/png": "[encoded data removed]",
      "text/plain": [
       "<matplotlib.figure.Figure at 0x7f558d0edd30>"
      ]
     },
     "metadata": {
      "tags": []
     },
     "output_type": "display_data"
    }
   ],
   "source": [
    "teste_img, test_labels = next(test_generator)\n",
    "\n",
    "test_labels = test_labels[:,0]\n",
    "\n",
    "predict = model.predict_generator(test_generator, steps=1, verbose=0)\n",
    "\n",
    "print(metrics.accuracy_score(test_labels, np.round(predict[:,0])))\n",
    "\n",
    "print(metrics.classification_report(test_labels, np.round(predict[:,0])))\n",
    "\n",
    "confusion = metrics.confusion_matrix(test_labels, np.round(predict[:,0]))\n",
    "print()\n",
    "print()\n",
    "cm_plot_labels = [\"melanomas\", \"normais\"]\n",
    "\n",
    "plot_confusion_matrix(confusion, cm_plot_labels, title=\"Matriz de Confusão\")"
   ]
  },
  {
   "cell_type": "code",
   "execution_count": 77,
   "metadata": {
    "colab": {
     "base_uri": "https://localhost:8080/",
     "height": 34
    },
    "colab_type": "code",
    "executionInfo": {
     "elapsed": 3256,
     "status": "ok",
     "timestamp": 1541560372175,
     "user": {
      "displayName": "carlos vinicios",
      "photoUrl": "https://lh4.googleusercontent.com/-HD1JD9S5kro/AAAAAAAAAAI/AAAAAAAAAGE/k78y_62BIjw/s64/photo.jpg",
      "userId": "13386258532170417771"
     },
     "user_tz": 120
    },
    "id": "C9tPCNSGBGOF",
    "outputId": "859ddada-38bd-4f45-ede5-dbf653727eff"
   },
   "outputs": [
    {
     "name": "stdout",
     "output_type": "stream",
     "text": [
      "Saved model to disk\n"
     ]
    }
   ],
   "source": [
    "model_json = model.to_json()\n",
    "with open(\"model2.json\", \"w\") as json_file:\n",
    "    json_file.write(model_json)\n",
    "# salvando os pesos\n",
    "model.save_weights(\"model2.h5\")\n",
    "print(\"Saved model to disk\")"
   ]
  },
  {
   "cell_type": "code",
   "execution_count": 0,
   "metadata": {
    "colab": {},
    "colab_type": "code",
    "id": "Rkenpw8hqYkU"
   },
   "outputs": [],
   "source": [
    "train_path3 = \"Neural-Networks/split3/train\"\n",
    "test_path3 = \"Neural-Networks/split3/test\"\n",
    "valid_path3 = \"Neural-Networks/split3/valid\""
   ]
  },
  {
   "cell_type": "code",
   "execution_count": 80,
   "metadata": {
    "colab": {
     "base_uri": "https://localhost:8080/",
     "height": 68
    },
    "colab_type": "code",
    "executionInfo": {
     "elapsed": 888,
     "status": "ok",
     "timestamp": 1541560402976,
     "user": {
      "displayName": "carlos vinicios",
      "photoUrl": "https://lh4.googleusercontent.com/-HD1JD9S5kro/AAAAAAAAAAI/AAAAAAAAAGE/k78y_62BIjw/s64/photo.jpg",
      "userId": "13386258532170417771"
     },
     "user_tz": 120
    },
    "id": "Cfc7FYJlquL9",
    "outputId": "1bb6eb58-4910-4d26-ce86-5b7dd0fa3f31"
   },
   "outputs": [
    {
     "name": "stdout",
     "output_type": "stream",
     "text": [
      "Found 192 images belonging to 2 classes.\n",
      "Found 40 images belonging to 2 classes.\n",
      "Found 40 images belonging to 2 classes.\n"
     ]
    }
   ],
   "source": [
    "batch_size = 8\n",
    "\n",
    "train_datagen = ImageDataGenerator(\n",
    "        rescale=1./255,\n",
    "        shear_range=0.2,\n",
    "        zoom_range=0.2,\n",
    "        horizontal_flip=True,\n",
    "        vertical_flip=True)\n",
    "\n",
    "test_datagen = ImageDataGenerator()\n",
    "\n",
    "train_generator = train_datagen.flow_from_directory(\n",
    "        train_path3,\n",
    "        target_size=(224, 224), \n",
    "        batch_size=batch_size,\n",
    "        classes=[\"melanomas\", \"normais\"])\n",
    "\n",
    "validation_generator = test_datagen.flow_from_directory(\n",
    "        valid_path3,\n",
    "        target_size=(224, 224),\n",
    "        batch_size=batch_size,\n",
    "        classes=[\"melanomas\", \"normais\"])\n",
    "\n",
    "test_generator = test_datagen.flow_from_directory(\n",
    "        test_path3,\n",
    "        target_size=(224, 224),\n",
    "        batch_size=batch_size,\n",
    "        classes=[\"melanomas\", \"normais\"])\n"
   ]
  },
  {
   "cell_type": "code",
   "execution_count": 81,
   "metadata": {
    "colab": {
     "base_uri": "https://localhost:8080/",
     "height": 238
    },
    "colab_type": "code",
    "executionInfo": {
     "elapsed": 16787,
     "status": "ok",
     "timestamp": 1541560422821,
     "user": {
      "displayName": "carlos vinicios",
      "photoUrl": "https://lh4.googleusercontent.com/-HD1JD9S5kro/AAAAAAAAAAI/AAAAAAAAAGE/k78y_62BIjw/s64/photo.jpg",
      "userId": "13386258532170417771"
     },
     "user_tz": 120
    },
    "id": "kdIiP19BrDO6",
    "outputId": "642809bd-e28b-45e3-fa35-79f556978e5b"
   },
   "outputs": [
    {
     "name": "stdout",
     "output_type": "stream",
     "text": [
      "Epoch 1/6\n",
      "12/12 [==============================] - 3s 287ms/step - loss: 0.6594 - acc: 0.7292 - val_loss: 0.5735 - val_acc: 0.8438\n",
      "Epoch 2/6\n",
      "12/12 [==============================] - 2s 185ms/step - loss: 0.6640 - acc: 0.7292 - val_loss: 0.5714 - val_acc: 0.9062\n",
      "Epoch 3/6\n",
      "12/12 [==============================] - 2s 197ms/step - loss: 0.6624 - acc: 0.7083 - val_loss: 0.5923 - val_acc: 0.8125\n",
      "Epoch 4/6\n",
      "12/12 [==============================] - 2s 203ms/step - loss: 0.6578 - acc: 0.7396 - val_loss: 0.5765 - val_acc: 0.9062\n",
      "Epoch 5/6\n",
      "12/12 [==============================] - 2s 205ms/step - loss: 0.6698 - acc: 0.6562 - val_loss: 0.5625 - val_acc: 0.8750\n",
      "Epoch 6/6\n",
      "12/12 [==============================] - 2s 199ms/step - loss: 0.6481 - acc: 0.7917 - val_loss: 0.5790 - val_acc: 0.8438\n"
     ]
    },
    {
     "data": {
      "text/plain": [
       "[0.5737390667200089, 0.875]"
      ]
     },
     "execution_count": 81,
     "metadata": {
      "tags": []
     },
     "output_type": "execute_result"
    }
   ],
   "source": [
    "model.compile(loss='binary_crossentropy',\n",
    "              optimizer='rmsprop',\n",
    "              metrics=['accuracy'])\n",
    "\n",
    "model.fit_generator(train_generator, steps_per_epoch=12, \n",
    "                    validation_data=validation_generator, \n",
    "                    validation_steps=4, \n",
    "                    epochs=6)\n",
    "\n",
    "model.evaluate_generator(generator=validation_generator, steps=4)"
   ]
  },
  {
   "cell_type": "code",
   "execution_count": 82,
   "metadata": {
    "colab": {
     "base_uri": "https://localhost:8080/",
     "height": 636
    },
    "colab_type": "code",
    "executionInfo": {
     "elapsed": 1597,
     "status": "ok",
     "timestamp": 1541560426295,
     "user": {
      "displayName": "carlos vinicios",
      "photoUrl": "https://lh4.googleusercontent.com/-HD1JD9S5kro/AAAAAAAAAAI/AAAAAAAAAGE/k78y_62BIjw/s64/photo.jpg",
      "userId": "13386258532170417771"
     },
     "user_tz": 120
    },
    "id": "vEph4csVrVGL",
    "outputId": "cf427260-b2d2-4aaf-bad0-bad70d492d1a"
   },
   "outputs": [
    {
     "name": "stdout",
     "output_type": "stream",
     "text": [
      "0.625\n",
      "             precision    recall  f1-score   support\n",
      "\n",
      "        0.0       0.83      0.71      0.77         7\n",
      "        1.0       0.00      0.00      0.00         1\n",
      "\n",
      "avg / total       0.73      0.62      0.67         8\n",
      "\n",
      "\n",
      "\n",
      "Sem normalização\n",
      "[[5 2]\n",
      " [1 0]]\n"
     ]
    },
    {
     "data": {
      "image/png": "[encoded data removed]",
      "text/plain": [
       "<matplotlib.figure.Figure at 0x7f558aa6a5c0>"
      ]
     },
     "metadata": {
      "tags": []
     },
     "output_type": "display_data"
    }
   ],
   "source": [
    "teste_img, test_labels = next(test_generator)\n",
    "\n",
    "test_labels = test_labels[:,0]\n",
    "\n",
    "predict = model.predict_generator(test_generator, steps=1, verbose=0)\n",
    "\n",
    "print(metrics.accuracy_score(test_labels, np.round(predict[:,0])))\n",
    "\n",
    "print(metrics.classification_report(test_labels, np.round(predict[:,0])))\n",
    "\n",
    "confusion = metrics.confusion_matrix(test_labels, np.round(predict[:,0]))\n",
    "print()\n",
    "print()\n",
    "cm_plot_labels = [\"melanomas\", \"normais\"]\n",
    "\n",
    "plot_confusion_matrix(confusion, cm_plot_labels, title=\"Matriz de Confusão\")"
   ]
  },
  {
   "cell_type": "code",
   "execution_count": 83,
   "metadata": {
    "colab": {
     "base_uri": "https://localhost:8080/",
     "height": 34
    },
    "colab_type": "code",
    "executionInfo": {
     "elapsed": 3125,
     "status": "ok",
     "timestamp": 1541560435801,
     "user": {
      "displayName": "carlos vinicios",
      "photoUrl": "https://lh4.googleusercontent.com/-HD1JD9S5kro/AAAAAAAAAAI/AAAAAAAAAGE/k78y_62BIjw/s64/photo.jpg",
      "userId": "13386258532170417771"
     },
     "user_tz": 120
    },
    "id": "Jkk_cwZoBMTy",
    "outputId": "a5a14814-a083-4869-9051-c1b528c61209"
   },
   "outputs": [
    {
     "name": "stdout",
     "output_type": "stream",
     "text": [
      "Saved model to disk\n"
     ]
    }
   ],
   "source": [
    "model_json = model.to_json()\n",
    "with open(\"model3.json\", \"w\") as json_file:\n",
    "    json_file.write(model_json)\n",
    "# salvando os pesos\n",
    "model.save_weights(\"model3.h5\")\n",
    "print(\"Saved model to disk\")"
   ]
  },
  {
   "cell_type": "code",
   "execution_count": 0,
   "metadata": {
    "colab": {},
    "colab_type": "code",
    "id": "krV33rT2qYsY"
   },
   "outputs": [],
   "source": [
    "train_path4 = \"Neural-Networks/split4/train\"\n",
    "test_path4 = \"Neural-Networks/split4/test\"\n",
    "valid_path4 = \"Neural-Networks/split4/valid\""
   ]
  },
  {
   "cell_type": "code",
   "execution_count": 84,
   "metadata": {
    "colab": {
     "base_uri": "https://localhost:8080/",
     "height": 68
    },
    "colab_type": "code",
    "executionInfo": {
     "elapsed": 872,
     "status": "ok",
     "timestamp": 1541560469691,
     "user": {
      "displayName": "carlos vinicios",
      "photoUrl": "https://lh4.googleusercontent.com/-HD1JD9S5kro/AAAAAAAAAAI/AAAAAAAAAGE/k78y_62BIjw/s64/photo.jpg",
      "userId": "13386258532170417771"
     },
     "user_tz": 120
    },
    "id": "GQFBfx2lqvZC",
    "outputId": "8349f8f7-aecb-46ae-e049-7671a6d2f48d"
   },
   "outputs": [
    {
     "name": "stdout",
     "output_type": "stream",
     "text": [
      "Found 192 images belonging to 2 classes.\n",
      "Found 40 images belonging to 2 classes.\n",
      "Found 40 images belonging to 2 classes.\n"
     ]
    }
   ],
   "source": [
    "batch_size = 8\n",
    "\n",
    "train_datagen = ImageDataGenerator(\n",
    "        rescale=1./255,\n",
    "        shear_range=0.2,\n",
    "        zoom_range=0.2,\n",
    "        horizontal_flip=True,\n",
    "        vertical_flip=True)\n",
    "\n",
    "test_datagen = ImageDataGenerator()\n",
    "\n",
    "train_generator = train_datagen.flow_from_directory(\n",
    "        train_path4,\n",
    "        target_size=(224, 224), \n",
    "        batch_size=batch_size,\n",
    "        classes=[\"melanomas\", \"normais\"])\n",
    "\n",
    "validation_generator = test_datagen.flow_from_directory(\n",
    "        valid_path4,\n",
    "        target_size=(224, 224),\n",
    "        batch_size=batch_size,\n",
    "        classes=[\"melanomas\", \"normais\"])\n",
    "\n",
    "test_generator = test_datagen.flow_from_directory(\n",
    "        test_path4,\n",
    "        target_size=(224, 224),\n",
    "        batch_size=batch_size,\n",
    "        classes=[\"melanomas\", \"normais\"])\n"
   ]
  },
  {
   "cell_type": "code",
   "execution_count": 85,
   "metadata": {
    "colab": {
     "base_uri": "https://localhost:8080/",
     "height": 238
    },
    "colab_type": "code",
    "executionInfo": {
     "elapsed": 16081,
     "status": "ok",
     "timestamp": 1541560490378,
     "user": {
      "displayName": "carlos vinicios",
      "photoUrl": "https://lh4.googleusercontent.com/-HD1JD9S5kro/AAAAAAAAAAI/AAAAAAAAAGE/k78y_62BIjw/s64/photo.jpg",
      "userId": "13386258532170417771"
     },
     "user_tz": 120
    },
    "id": "aabYzpVHrELa",
    "outputId": "72c9a586-7337-4806-cc7c-9f671f5de716"
   },
   "outputs": [
    {
     "name": "stdout",
     "output_type": "stream",
     "text": [
      "Epoch 1/6\n",
      "12/12 [==============================] - 3s 276ms/step - loss: 0.6613 - acc: 0.7292 - val_loss: 0.6038 - val_acc: 0.8438\n",
      "Epoch 2/6\n",
      "12/12 [==============================] - 2s 173ms/step - loss: 0.6491 - acc: 0.7708 - val_loss: 0.6045 - val_acc: 0.8438\n",
      "Epoch 3/6\n",
      "12/12 [==============================] - 2s 174ms/step - loss: 0.6577 - acc: 0.7292 - val_loss: 0.5970 - val_acc: 0.8750\n",
      "Epoch 4/6\n",
      "12/12 [==============================] - 2s 177ms/step - loss: 0.6572 - acc: 0.7396 - val_loss: 0.6000 - val_acc: 0.8438\n",
      "Epoch 5/6\n",
      "12/12 [==============================] - 2s 200ms/step - loss: 0.6462 - acc: 0.8229 - val_loss: 0.5958 - val_acc: 0.8438\n",
      "Epoch 6/6\n",
      "12/12 [==============================] - 3s 216ms/step - loss: 0.6669 - acc: 0.6771 - val_loss: 0.5897 - val_acc: 0.8750\n"
     ]
    },
    {
     "data": {
      "text/plain": [
       "[0.5930826812982559, 0.875]"
      ]
     },
     "execution_count": 85,
     "metadata": {
      "tags": []
     },
     "output_type": "execute_result"
    }
   ],
   "source": [
    "model.compile(loss='binary_crossentropy',\n",
    "              optimizer='rmsprop',\n",
    "              metrics=['accuracy'])\n",
    "\n",
    "model.fit_generator(train_generator, steps_per_epoch=12, \n",
    "                    validation_data=validation_generator, \n",
    "                    validation_steps=4, \n",
    "                    epochs=6)\n",
    "\n",
    "model.evaluate_generator(generator=validation_generator, steps=4)"
   ]
  },
  {
   "cell_type": "code",
   "execution_count": 86,
   "metadata": {
    "colab": {
     "base_uri": "https://localhost:8080/",
     "height": 690
    },
    "colab_type": "code",
    "executionInfo": {
     "elapsed": 1565,
     "status": "ok",
     "timestamp": 1541560506444,
     "user": {
      "displayName": "carlos vinicios",
      "photoUrl": "https://lh4.googleusercontent.com/-HD1JD9S5kro/AAAAAAAAAAI/AAAAAAAAAGE/k78y_62BIjw/s64/photo.jpg",
      "userId": "13386258532170417771"
     },
     "user_tz": 120
    },
    "id": "iiNCiH7crWdm",
    "outputId": "c8f9f8c0-7ef0-4743-ba48-bc980ff8976d"
   },
   "outputs": [
    {
     "name": "stdout",
     "output_type": "stream",
     "text": [
      "0.75\n",
      "             precision    recall  f1-score   support\n",
      "\n",
      "        0.0       1.00      0.75      0.86         8\n",
      "        1.0       0.00      0.00      0.00         0\n",
      "\n",
      "avg / total       1.00      0.75      0.86         8\n",
      "\n",
      "\n",
      "\n",
      "Sem normalização\n",
      "[[6 2]\n",
      " [0 0]]\n"
     ]
    },
    {
     "name": "stderr",
     "output_type": "stream",
     "text": [
      "/usr/local/lib/python3.6/dist-packages/sklearn/metrics/classification.py:1137: UndefinedMetricWarning: Recall and F-score are ill-defined and being set to 0.0 in labels with no true samples.\n",
      "  'recall', 'true', average, warn_for)\n"
     ]
    },
    {
     "data": {
      "image/png": "[encoded data removed]",
      "text/plain": [
       "<matplotlib.figure.Figure at 0x7f5589ced550>"
      ]
     },
     "metadata": {
      "tags": []
     },
     "output_type": "display_data"
    }
   ],
   "source": [
    "teste_img, test_labels = next(test_generator)\n",
    "\n",
    "test_labels = test_labels[:,0]\n",
    "\n",
    "predict = model.predict_generator(test_generator, steps=1, verbose=0)\n",
    "\n",
    "print(metrics.accuracy_score(test_labels, np.round(predict[:,0])))\n",
    "\n",
    "print(metrics.classification_report(test_labels, np.round(predict[:,0])))\n",
    "\n",
    "confusion = metrics.confusion_matrix(test_labels, np.round(predict[:,0]))\n",
    "print()\n",
    "print()\n",
    "cm_plot_labels = [\"melanomas\", \"normais\"]\n",
    "\n",
    "plot_confusion_matrix(confusion, cm_plot_labels, title=\"Matriz de Confusão\")"
   ]
  },
  {
   "cell_type": "code",
   "execution_count": 88,
   "metadata": {
    "colab": {
     "base_uri": "https://localhost:8080/",
     "height": 34
    },
    "colab_type": "code",
    "executionInfo": {
     "elapsed": 3428,
     "status": "ok",
     "timestamp": 1541560524242,
     "user": {
      "displayName": "carlos vinicios",
      "photoUrl": "https://lh4.googleusercontent.com/-HD1JD9S5kro/AAAAAAAAAAI/AAAAAAAAAGE/k78y_62BIjw/s64/photo.jpg",
      "userId": "13386258532170417771"
     },
     "user_tz": 120
    },
    "id": "jxZYFR48BPQi",
    "outputId": "10c27734-2516-446f-c4d8-9fdaa32ea5d3"
   },
   "outputs": [
    {
     "name": "stdout",
     "output_type": "stream",
     "text": [
      "Saved model to disk\n"
     ]
    }
   ],
   "source": [
    "model_json = model.to_json()\n",
    "with open(\"model4.json\", \"w\") as json_file:\n",
    "    json_file.write(model_json)\n",
    "# salvando os pesos\n",
    "model.save_weights(\"model4.h5\")\n",
    "print(\"Saved model to disk\")"
   ]
  },
  {
   "cell_type": "code",
   "execution_count": 0,
   "metadata": {
    "colab": {},
    "colab_type": "code",
    "id": "_DFVa-j_qYvg"
   },
   "outputs": [],
   "source": [
    "train_path5 = \"Neural-Networks/split5/train\"\n",
    "test_path5 = \"Neural-Networks/split5/test\"\n",
    "valid_path5 = \"Neural-Networks/split5/valid\""
   ]
  },
  {
   "cell_type": "code",
   "execution_count": 58,
   "metadata": {
    "colab": {
     "base_uri": "https://localhost:8080/",
     "height": 68
    },
    "colab_type": "code",
    "executionInfo": {
     "elapsed": 925,
     "status": "ok",
     "timestamp": 1541560008654,
     "user": {
      "displayName": "carlos vinicios",
      "photoUrl": "https://lh4.googleusercontent.com/-HD1JD9S5kro/AAAAAAAAAAI/AAAAAAAAAGE/k78y_62BIjw/s64/photo.jpg",
      "userId": "13386258532170417771"
     },
     "user_tz": 120
    },
    "id": "elohjsDUqv9z",
    "outputId": "94d6b7e1-fef0-4903-c394-b7cfbccea5a8"
   },
   "outputs": [
    {
     "name": "stdout",
     "output_type": "stream",
     "text": [
      "Found 192 images belonging to 2 classes.\n",
      "Found 40 images belonging to 2 classes.\n",
      "Found 40 images belonging to 2 classes.\n"
     ]
    }
   ],
   "source": [
    "batch_size = 8\n",
    "\n",
    "train_datagen = ImageDataGenerator(\n",
    "        rescale=1./255,\n",
    "        shear_range=0.2,\n",
    "        zoom_range=0.2,\n",
    "        horizontal_flip=True,\n",
    "        vertical_flip=True)\n",
    "\n",
    "test_datagen = ImageDataGenerator(rescale=1./255)\n",
    "\n",
    "train_generator = train_datagen.flow_from_directory(\n",
    "        train_path5,\n",
    "        target_size=(224, 224), \n",
    "        batch_size=batch_size,\n",
    "        classes=[\"melanomas\", \"normais\"])\n",
    "\n",
    "validation_generator = test_datagen.flow_from_directory(\n",
    "        valid_path5,\n",
    "        target_size=(224, 224),\n",
    "        batch_size=batch_size,\n",
    "        classes=[\"melanomas\", \"normais\"])\n",
    "\n",
    "test_generator = test_datagen.flow_from_directory(\n",
    "        test_path5,\n",
    "        target_size=(224, 224),\n",
    "        batch_size=batch_size,\n",
    "        classes=[\"melanomas\", \"normais\"])\n"
   ]
  },
  {
   "cell_type": "code",
   "execution_count": 0,
   "metadata": {
    "colab": {},
    "colab_type": "code",
    "id": "zpf3i1DEKuD0"
   },
   "outputs": [],
   "source": []
  },
  {
   "cell_type": "code",
   "execution_count": 89,
   "metadata": {
    "colab": {
     "base_uri": "https://localhost:8080/",
     "height": 238
    },
    "colab_type": "code",
    "executionInfo": {
     "elapsed": 16829,
     "status": "ok",
     "timestamp": 1541560588322,
     "user": {
      "displayName": "carlos vinicios",
      "photoUrl": "https://lh4.googleusercontent.com/-HD1JD9S5kro/AAAAAAAAAAI/AAAAAAAAAGE/k78y_62BIjw/s64/photo.jpg",
      "userId": "13386258532170417771"
     },
     "user_tz": 120
    },
    "id": "M-81bDXUrGlc",
    "outputId": "a2fb6b7e-1df5-4eec-c68c-18d101c951d8"
   },
   "outputs": [
    {
     "name": "stdout",
     "output_type": "stream",
     "text": [
      "Epoch 1/6\n",
      "12/12 [==============================] - 4s 319ms/step - loss: 0.6532 - acc: 0.7708 - val_loss: 0.5884 - val_acc: 0.9062\n",
      "Epoch 2/6\n",
      "12/12 [==============================] - 2s 175ms/step - loss: 0.6570 - acc: 0.6875 - val_loss: 0.6022 - val_acc: 0.7500\n",
      "Epoch 3/6\n",
      "12/12 [==============================] - 2s 190ms/step - loss: 0.6488 - acc: 0.7500 - val_loss: 0.5913 - val_acc: 0.9062\n",
      "Epoch 4/6\n",
      "12/12 [==============================] - 2s 194ms/step - loss: 0.6671 - acc: 0.6250 - val_loss: 0.6052 - val_acc: 0.7812\n",
      "Epoch 5/6\n",
      "12/12 [==============================] - 2s 199ms/step - loss: 0.6612 - acc: 0.7188 - val_loss: 0.5784 - val_acc: 0.9062\n",
      "Epoch 6/6\n",
      "12/12 [==============================] - 2s 196ms/step - loss: 0.6573 - acc: 0.7292 - val_loss: 0.6025 - val_acc: 0.8438\n"
     ]
    },
    {
     "data": {
      "text/plain": [
       "[0.6023104041814804, 0.8125]"
      ]
     },
     "execution_count": 89,
     "metadata": {
      "tags": []
     },
     "output_type": "execute_result"
    }
   ],
   "source": [
    "model.compile(loss='binary_crossentropy',\n",
    "              optimizer='rmsprop',\n",
    "              metrics=['accuracy'])\n",
    "\n",
    "model.fit_generator(train_generator, steps_per_epoch=12, \n",
    "                    validation_data=validation_generator, \n",
    "                    validation_steps=4, \n",
    "                    epochs=6)\n",
    "\n",
    "model.evaluate_generator(generator=validation_generator, steps=4)"
   ]
  },
  {
   "cell_type": "code",
   "execution_count": 90,
   "metadata": {
    "colab": {
     "base_uri": "https://localhost:8080/",
     "height": 636
    },
    "colab_type": "code",
    "executionInfo": {
     "elapsed": 1480,
     "status": "ok",
     "timestamp": 1541560594597,
     "user": {
      "displayName": "carlos vinicios",
      "photoUrl": "https://lh4.googleusercontent.com/-HD1JD9S5kro/AAAAAAAAAAI/AAAAAAAAAGE/k78y_62BIjw/s64/photo.jpg",
      "userId": "13386258532170417771"
     },
     "user_tz": 120
    },
    "id": "z1uD3oIVrXsq",
    "outputId": "71fdaaaf-fe1c-455e-e126-68ea774c96fc"
   },
   "outputs": [
    {
     "name": "stdout",
     "output_type": "stream",
     "text": [
      "0.625\n",
      "             precision    recall  f1-score   support\n",
      "\n",
      "        0.0       1.00      0.57      0.73         7\n",
      "        1.0       0.25      1.00      0.40         1\n",
      "\n",
      "avg / total       0.91      0.62      0.69         8\n",
      "\n",
      "\n",
      "\n",
      "Sem normalização\n",
      "[[4 3]\n",
      " [0 1]]\n"
     ]
    },
    {
     "data": {
      "image/png": "[encoded data removed]",
      "text/plain": [
       "<matplotlib.figure.Figure at 0x7f558acc4d30>"
      ]
     },
     "metadata": {
      "tags": []
     },
     "output_type": "display_data"
    }
   ],
   "source": [
    "teste_img, test_labels = next(test_generator)\n",
    "\n",
    "test_labels = test_labels[:,0]\n",
    "\n",
    "predict = model.predict_generator(test_generator, steps=1, verbose=0)\n",
    "\n",
    "print(metrics.accuracy_score(test_labels, np.round(predict[:,0])))\n",
    "\n",
    "print(metrics.classification_report(test_labels, np.round(predict[:,0])))\n",
    "\n",
    "confusion = metrics.confusion_matrix(test_labels, np.round(predict[:,0]))\n",
    "print()\n",
    "print()\n",
    "cm_plot_labels = [\"melanomas\", \"normais\"]\n",
    "\n",
    "plot_confusion_matrix(confusion, cm_plot_labels, title=\"Matriz de Confusão\")"
   ]
  },
  {
   "cell_type": "code",
   "execution_count": 91,
   "metadata": {
    "colab": {
     "base_uri": "https://localhost:8080/",
     "height": 34
    },
    "colab_type": "code",
    "executionInfo": {
     "elapsed": 3313,
     "status": "ok",
     "timestamp": 1541560628855,
     "user": {
      "displayName": "carlos vinicios",
      "photoUrl": "https://lh4.googleusercontent.com/-HD1JD9S5kro/AAAAAAAAAAI/AAAAAAAAAGE/k78y_62BIjw/s64/photo.jpg",
      "userId": "13386258532170417771"
     },
     "user_tz": 120
    },
    "id": "DGBUya18BR4_",
    "outputId": "8786c9e3-159b-4a39-a6e1-63e6822c8744"
   },
   "outputs": [
    {
     "name": "stdout",
     "output_type": "stream",
     "text": [
      "Saved model to disk\n"
     ]
    }
   ],
   "source": [
    "model_json = model.to_json()\n",
    "with open(\"model5.json\", \"w\") as json_file:\n",
    "    json_file.write(model_json)\n",
    "# salvando os pesos\n",
    "model.save_weights(\"model5.h5\")\n",
    "print(\"Saved model to disk\")"
   ]
  }
 ],
 "metadata": {
  "accelerator": "GPU",
  "colab": {
   "collapsed_sections": [],
   "name": "Teste_FT_VGG16.ipynb",
   "provenance": [],
   "version": "0.3.2"
  },
  "kernelspec": {
   "display_name": "Python 3",
   "language": "python",
   "name": "python3"
  },
  "language_info": {
   "codemirror_mode": {
    "name": "ipython",
    "version": 3
   },
   "file_extension": ".py",
   "mimetype": "text/x-python",
   "name": "python",
   "nbconvert_exporter": "python",
   "pygments_lexer": "ipython3",
   "version": "3.6.5"
  }
 },
 "nbformat": 4,
 "nbformat_minor": 1
}
